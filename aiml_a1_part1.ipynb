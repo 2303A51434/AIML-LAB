{
  "nbformat": 4,
  "nbformat_minor": 0,
  "metadata": {
    "colab": {
      "provenance": [],
      "authorship_tag": "ABX9TyOs3WmZfJqd4ryr+NXa+Mr3",
      "include_colab_link": true
    },
    "kernelspec": {
      "name": "python3",
      "display_name": "Python 3"
    },
    "language_info": {
      "name": "python"
    }
  },
  "cells": [
    {
      "cell_type": "markdown",
      "metadata": {
        "id": "view-in-github",
        "colab_type": "text"
      },
      "source": [
        "<a href=\"https://colab.research.google.com/github/2303A51434/AIML-LAB/blob/main/aiml_a1_part1.ipynb\" target=\"_parent\"><img src=\"https://colab.research.google.com/assets/colab-badge.svg\" alt=\"Open In Colab\"/></a>"
      ]
    },
    {
      "cell_type": "code",
      "execution_count": 1,
      "metadata": {
        "colab": {
          "base_uri": "https://localhost:8080/"
        },
        "id": "hn0ogSg8_gwR",
        "outputId": "f9063839-f4b7-408b-9ba5-c4c1a50910b9"
      },
      "outputs": [
        {
          "output_type": "stream",
          "name": "stdout",
          "text": [
            "<class 'list'>\n",
            "<class 'int'>\n",
            "<class 'str'>\n",
            "<class 'float'>\n",
            "<class 'numpy.int64'>\n",
            "<class 'numpy.int64'>\n",
            "multiplication of arrays:  [   4 1350  208  238  150]\n",
            "division of arrays:  [0.25       6.         0.8125     0.82352941 1.5       ]\n",
            "Summation of arrays:  [  5 105  29  31  25]\n",
            "exponential of elemnt of array1:  1.2204032943178408e+39\n",
            "sin of the given array1 index 2:  0.8939966636005579\n",
            "log2 of the element 2 of array1:  6.491853096329675\n"
          ]
        }
      ],
      "source": [
        "import pandas as pd\n",
        "import numpy as np\n",
        "import math\n",
        "list1 = [12,\"hi\",23.4]\n",
        "np_array = np.array([1, 2, 3, 4, 5])\n",
        "array1 = np.array([1,90, 13, 14, 15])\n",
        "array2 = np.array([4, 15, 16, 17, 10])\n",
        "print(type(list1))\n",
        "print(type(list1[0]))\n",
        "print(type(list1[1]))\n",
        "print(type(list1[2]))\n",
        "print(type(np_array[2]))\n",
        "print(type(np_array[1]))\n",
        "sum = array1+array2\n",
        "div = array1/array2\n",
        "mul = array1*array2\n",
        "print(\"multiplication of arrays: \",mul)\n",
        "print(\"division of arrays: \",div)\n",
        "print(\"Summation of arrays: \",sum)\n",
        "log2_=np.log2(array1[1])\n",
        "sinn = np.sin(array1[1])\n",
        "expo = np.exp(array1[1])\n",
        "print(\"exponential of elemnt of array1: \",expo)\n",
        "print(\"sin of the given array1 index 2: \",sinn)\n",
        "print(\"log2 of the element 2 of array1: \",log2_)"
      ]
    }
  ]
}