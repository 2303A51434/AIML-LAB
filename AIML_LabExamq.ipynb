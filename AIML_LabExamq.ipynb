{
  "nbformat": 4,
  "nbformat_minor": 0,
  "metadata": {
    "colab": {
      "provenance": [],
      "authorship_tag": "ABX9TyNjL7r1gPNLk0++k7J9sKU3",
      "include_colab_link": true
    },
    "kernelspec": {
      "name": "python3",
      "display_name": "Python 3"
    },
    "language_info": {
      "name": "python"
    }
  },
  "cells": [
    {
      "cell_type": "markdown",
      "metadata": {
        "id": "view-in-github",
        "colab_type": "text"
      },
      "source": [
        "<a href=\"https://colab.research.google.com/github/2303A51434/AIML-LAB/blob/main/AIML_LabExamq.ipynb\" target=\"_parent\"><img src=\"https://colab.research.google.com/assets/colab-badge.svg\" alt=\"Open In Colab\"/></a>"
      ]
    },
    {
      "cell_type": "code",
      "execution_count": 4,
      "metadata": {
        "id": "RpMoT1h_ZYCW"
      },
      "outputs": [],
      "source": [
        "import math\n",
        "import random\n",
        "import pandas as pd\n",
        "import numpy as np"
      ]
    },
    {
      "cell_type": "code",
      "source": [
        "def encode_class(mydata):\n",
        "    classes = []\n",
        "    for i in range(len(mydata)):\n",
        "        if mydata[i][-1] not in classes:\n",
        "            classes.append(mydata[i][-1])\n",
        "    for i in range(len(classes)):\n",
        "        for j in range(len(mydata)):\n",
        "            if mydata[j][-1] == classes[i]:\n",
        "                mydata[j][-1] = i\n",
        "    return mydata"
      ],
      "metadata": {
        "id": "xo-0-j8wad2y"
      },
      "execution_count": 2,
      "outputs": []
    },
    {
      "cell_type": "code",
      "source": [
        "def splitting(mydata, ratio):\n",
        "    train_num = int(len(mydata) * ratio)\n",
        "    train = []\n",
        "    test = list(mydata)\n",
        "    while len(train) < train_num:\n",
        "        index = random.randrange(len(test))\n",
        "        train.append(test.pop(index))\n",
        "    return train, test"
      ],
      "metadata": {
        "id": "7av3SN-6agxn"
      },
      "execution_count": 5,
      "outputs": []
    },
    {
      "cell_type": "code",
      "source": [
        "def groupUnderClass(mydata):\n",
        "    data_dict = {}\n",
        "    for i in range(len(mydata)):\n",
        "        if mydata[i][-1] not in data_dict:\n",
        "            data_dict[mydata[i][-1]] = []\n",
        "        data_dict[mydata[i][-1]].append(mydata[i])\n",
        "    return data_dict"
      ],
      "metadata": {
        "id": "zWzciy-TakBw"
      },
      "execution_count": 6,
      "outputs": []
    },
    {
      "cell_type": "code",
      "source": [
        "def MeanAndStdDev(numbers):\n",
        "    avg = np.mean(numbers)\n",
        "    stddev = np.std(numbers)\n",
        "    return avg, stddev\n",
        "\n",
        "def MeanAndStdDevForClass(mydata):\n",
        "    info = {}\n",
        "    data_dict = groupUnderClass(mydata)\n",
        "    for classValue, instances in data_dict.items():\n",
        "        info[classValue] = [MeanAndStdDev(attribute) for attribute in zip(*instances)]\n",
        "    return info"
      ],
      "metadata": {
        "id": "Mo48_MNeavX3"
      },
      "execution_count": 7,
      "outputs": []
    },
    {
      "cell_type": "code",
      "source": [
        "def calculateGaussianProbability(x, mean, stdev):\n",
        "    epsilon = 1e-10\n",
        "    expo = math.exp(-(math.pow(x - mean, 2) / (2 * math.pow(stdev + epsilon, 2))))\n",
        "    return (1 / (math.sqrt(2 * math.pi) * (stdev + epsilon))) * expo\n",
        "\n",
        "def calculateClassProbabilities(info, test):\n",
        "    probabilities = {}\n",
        "    for classValue, classSummaries in info.items():\n",
        "        probabilities[classValue] = 1\n",
        "        for i in range(len(classSummaries)):\n",
        "            mean, std_dev = classSummaries[i]\n",
        "            x = test[i]\n",
        "            probabilities[classValue] *= calculateGaussianProbability(x, mean, std_dev)\n",
        "    return probabilities"
      ],
      "metadata": {
        "id": "Zsnvo2i-ayJH"
      },
      "execution_count": 8,
      "outputs": []
    },
    {
      "cell_type": "code",
      "source": [
        "# Load data using pandas\n",
        "filename = '/content/diabetes.csv'  # Add the correct file path\n",
        "df = pd.read_csv(filename)\n",
        "mydata = df.values.tolist()\n",
        "\n",
        "# Encode classes and convert attributes to float\n",
        "mydata = encode_class(mydata)\n",
        "for i in range(len(mydata)):\n",
        "    for j in range(len(mydata[i]) - 1):\n",
        "        mydata[i][j] = float(mydata[i][j])"
      ],
      "metadata": {
        "id": "VrlVlO90bv5u"
      },
      "execution_count": 14,
      "outputs": []
    },
    {
      "cell_type": "code",
      "source": [
        "# Split the data into training and testing sets\n",
        "ratio = 0.7\n",
        "train_data, test_data = splitting(mydata, ratio)\n",
        "\n",
        "print('Total number of examples:', len(mydata))\n",
        "print('Training examples:', len(train_data))\n",
        "print('Test examples:', len(test_data))"
      ],
      "metadata": {
        "colab": {
          "base_uri": "https://localhost:8080/"
        },
        "id": "WwEqTac0bAXI",
        "outputId": "7f9ec102-eec5-4e42-f205-11290c77b443"
      },
      "execution_count": 15,
      "outputs": [
        {
          "output_type": "stream",
          "name": "stdout",
          "text": [
            "Total number of examples: 768\n",
            "Training examples: 537\n",
            "Test examples: 231\n"
          ]
        }
      ]
    },
    {
      "cell_type": "code",
      "source": [
        "def accuracy_rate(test_data, predictions):\n",
        "    correct = 0\n",
        "    for i in range(len(test_data)):\n",
        "        if test_data[i][-1] == predictions[i]:\n",
        "            correct += 1\n",
        "    return (correct / float(len(test_data))) * 100.0"
      ],
      "metadata": {
        "id": "8FIoFKM5bcuu"
      },
      "execution_count": 17,
      "outputs": []
    },
    {
      "cell_type": "code",
      "source": [
        "info = MeanAndStdDevForClass(train_data)\n",
        "predictions = getPredictions(info, test_data)\n",
        "accuracy = accuracy_rate(test_data, predictions)\n",
        "print('Accuracy of the model:', accuracy)"
      ],
      "metadata": {
        "colab": {
          "base_uri": "https://localhost:8080/"
        },
        "id": "eMj0vvVLdNOe",
        "outputId": "62c14974-5ebb-43bc-86da-06352b48cefc"
      },
      "execution_count": 18,
      "outputs": [
        {
          "output_type": "stream",
          "name": "stdout",
          "text": [
            "Accuracy of the model: 100.0\n"
          ]
        }
      ]
    }
  ]
}